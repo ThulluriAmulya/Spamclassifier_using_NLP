{
  "nbformat": 4,
  "nbformat_minor": 0,
  "metadata": {
    "colab": {
      "name": "SpamClassifier using NLP",
      "provenance": []
    },
    "kernelspec": {
      "name": "python3",
      "display_name": "Python 3"
    }
  },
  "cells": [
    {
      "cell_type": "code",
      "metadata": {
        "id": "oLmMJrOytcOD",
        "colab": {
          "base_uri": "https://localhost:8080/",
          "height": 204
        },
        "outputId": "67427584-be63-4b35-d662-8e6af62de021"
      },
      "source": [
        "import pandas as pd\r\n",
        "df = pd.read_csv('/content/sample_data/Spamclassifier.csv', encoding= 'unicode_escape')\r\n",
        "df.head()"
      ],
      "execution_count": 1,
      "outputs": [
        {
          "output_type": "execute_result",
          "data": {
            "text/html": [
              "<div>\n",
              "<style scoped>\n",
              "    .dataframe tbody tr th:only-of-type {\n",
              "        vertical-align: middle;\n",
              "    }\n",
              "\n",
              "    .dataframe tbody tr th {\n",
              "        vertical-align: top;\n",
              "    }\n",
              "\n",
              "    .dataframe thead th {\n",
              "        text-align: right;\n",
              "    }\n",
              "</style>\n",
              "<table border=\"1\" class=\"dataframe\">\n",
              "  <thead>\n",
              "    <tr style=\"text-align: right;\">\n",
              "      <th></th>\n",
              "      <th>Label</th>\n",
              "      <th>Message</th>\n",
              "    </tr>\n",
              "  </thead>\n",
              "  <tbody>\n",
              "    <tr>\n",
              "      <th>0</th>\n",
              "      <td>ham</td>\n",
              "      <td>Go until jurong point, crazy.. Available only ...</td>\n",
              "    </tr>\n",
              "    <tr>\n",
              "      <th>1</th>\n",
              "      <td>ham</td>\n",
              "      <td>Ok lar... Joking wif u oni...</td>\n",
              "    </tr>\n",
              "    <tr>\n",
              "      <th>2</th>\n",
              "      <td>spam</td>\n",
              "      <td>Free entry in 2 a wkly comp to win FA Cup fina...</td>\n",
              "    </tr>\n",
              "    <tr>\n",
              "      <th>3</th>\n",
              "      <td>ham</td>\n",
              "      <td>U dun say so early hor... U c already then say...</td>\n",
              "    </tr>\n",
              "    <tr>\n",
              "      <th>4</th>\n",
              "      <td>ham</td>\n",
              "      <td>Nah I don't think he goes to usf, he lives aro...</td>\n",
              "    </tr>\n",
              "  </tbody>\n",
              "</table>\n",
              "</div>"
            ],
            "text/plain": [
              "  Label                                            Message\n",
              "0   ham  Go until jurong point, crazy.. Available only ...\n",
              "1   ham                      Ok lar... Joking wif u oni...\n",
              "2  spam  Free entry in 2 a wkly comp to win FA Cup fina...\n",
              "3   ham  U dun say so early hor... U c already then say...\n",
              "4   ham  Nah I don't think he goes to usf, he lives aro..."
            ]
          },
          "metadata": {
            "tags": []
          },
          "execution_count": 1
        }
      ]
    },
    {
      "cell_type": "code",
      "metadata": {
        "colab": {
          "base_uri": "https://localhost:8080/"
        },
        "id": "i3METsJFt_y_",
        "outputId": "8919916f-832d-4e46-edfb-e3a73b66c261"
      },
      "source": [
        "df.shape"
      ],
      "execution_count": 2,
      "outputs": [
        {
          "output_type": "execute_result",
          "data": {
            "text/plain": [
              "(4837, 2)"
            ]
          },
          "metadata": {
            "tags": []
          },
          "execution_count": 2
        }
      ]
    },
    {
      "cell_type": "code",
      "metadata": {
        "colab": {
          "base_uri": "https://localhost:8080/"
        },
        "id": "0MSesNPauIoc",
        "outputId": "262ba619-15c5-4f12-9580-51ac6ca6fc22"
      },
      "source": [
        "df['Label'].value_counts()"
      ],
      "execution_count": 3,
      "outputs": [
        {
          "output_type": "execute_result",
          "data": {
            "text/plain": [
              "ham     4199\n",
              "spam     638\n",
              "Name: Label, dtype: int64"
            ]
          },
          "metadata": {
            "tags": []
          },
          "execution_count": 3
        }
      ]
    },
    {
      "cell_type": "code",
      "metadata": {
        "id": "dQwNyazxuTLH"
      },
      "source": [
        "df['Label']=df['Label'].replace('ham', 0)\r\n",
        "df['Label']=df['Label'].replace('spam', 1)"
      ],
      "execution_count": 4,
      "outputs": []
    },
    {
      "cell_type": "code",
      "metadata": {
        "colab": {
          "base_uri": "https://localhost:8080/",
          "height": 350
        },
        "id": "n-G5JQJGuozL",
        "outputId": "14260acb-3763-4404-8414-9ce6c7c47a30"
      },
      "source": [
        "import matplotlib.pyplot as plt\r\n",
        "import seaborn as sns\r\n",
        "%matplotlib inline\r\n",
        "\r\n",
        "sns.countplot(df['Label'])"
      ],
      "execution_count": 5,
      "outputs": [
        {
          "output_type": "stream",
          "text": [
            "/usr/local/lib/python3.6/dist-packages/seaborn/_decorators.py:43: FutureWarning: Pass the following variable as a keyword arg: x. From version 0.12, the only valid positional argument will be `data`, and passing other arguments without an explicit keyword will result in an error or misinterpretation.\n",
            "  FutureWarning\n"
          ],
          "name": "stderr"
        },
        {
          "output_type": "execute_result",
          "data": {
            "text/plain": [
              "<matplotlib.axes._subplots.AxesSubplot at 0x7f78a69ed1d0>"
            ]
          },
          "metadata": {
            "tags": []
          },
          "execution_count": 5
        },
        {
          "output_type": "display_data",
          "data": {
            "image/png": "[encoded data removed]",
            "text/plain": [
              "<Figure size 432x288 with 1 Axes>"
            ]
          },
          "metadata": {
            "tags": [],
            "needs_background": "light"
          }
        }
      ]
    },
    {
      "cell_type": "code",
      "metadata": {
        "id": "v6DYP57bttlt",
        "colab": {
          "base_uri": "https://localhost:8080/"
        },
        "outputId": "76b9df37-cea2-43e9-d36f-0bd834d97172"
      },
      "source": [
        "#Data cleaning and preprocessing\r\n",
        "import re\r\n",
        "import nltk\r\n",
        "nltk.download('stopwords')\r\n",
        "nltk.download('wordnet')"
      ],
      "execution_count": 6,
      "outputs": [
        {
          "output_type": "stream",
          "text": [
            "[nltk_data] Downloading package stopwords to /root/nltk_data...\n",
            "[nltk_data]   Package stopwords is already up-to-date!\n",
            "[nltk_data] Downloading package wordnet to /root/nltk_data...\n",
            "[nltk_data]   Package wordnet is already up-to-date!\n"
          ],
          "name": "stdout"
        },
        {
          "output_type": "execute_result",
          "data": {
            "text/plain": [
              "True"
            ]
          },
          "metadata": {
            "tags": []
          },
          "execution_count": 6
        }
      ]
    },
    {
      "cell_type": "code",
      "metadata": {
        "id": "lGPMgg0EwNwW"
      },
      "source": [
        "from nltk.corpus import stopwords\r\n",
        "from nltk.stem.porter import PorterStemmer\r\n",
        "from nltk.stem import WordNetLemmatizer\r\n"
      ],
      "execution_count": 7,
      "outputs": []
    },
    {
      "cell_type": "code",
      "metadata": {
        "id": "p6-IeYpgsE1x"
      },
      "source": [
        "ps = PorterStemmer()\r\n",
        "corpus = []\r\n",
        "\r\n",
        "for i in range(0, len(df)):\r\n",
        "    review = re.sub('[^a-zA-Z]', ' ',df['Message'][i])\r\n",
        "    review = review.lower()\r\n",
        "    review = review.split()\r\n",
        "    \r\n",
        "    review = [ps.stem(word) for word in review if not word in stopwords.words('english')]\r\n",
        "    review = ' '.join(review)\r\n",
        "    corpus.append(review)\r\n",
        "\r\n",
        "corpus"
      ],
      "execution_count": null,
      "outputs": []
    },
    {
      "cell_type": "code",
      "metadata": {
        "id": "uKO_DTMVvB00"
      },
      "source": [
        "lem=WordNetLemmatizer()\r\n",
        "lem_corpus=[]\r\n",
        "\r\n",
        "for i in range(0, len(df)):\r\n",
        "    review = re.sub('[^a-zA-Z]', ' ',df['Message'][i])\r\n",
        "    review = review.lower()\r\n",
        "    review = review.split()\r\n",
        "    \r\n",
        "    review = [lem.lemmatize(word) for word in review if not word in stopwords.words('english')]\r\n",
        "    review = ' '.join(review)\r\n",
        "    lem_corpus.append(review)\r\n",
        "\r\n",
        "lem_corpus"
      ],
      "execution_count": null,
      "outputs": []
    },
    {
      "cell_type": "code",
      "metadata": {
        "colab": {
          "base_uri": "https://localhost:8080/"
        },
        "id": "hNJPckiHrVZ-",
        "outputId": "df7e42cf-127c-4b15-c686-73826abc3391"
      },
      "source": [
        "from sklearn.feature_extraction.text import CountVectorizer\r\n",
        "cv = CountVectorizer(max_features=2500)\r\n",
        "X_stem = cv.fit_transform(corpus).toarray()\r\n",
        "X_stem"
      ],
      "execution_count": 10,
      "outputs": [
        {
          "output_type": "execute_result",
          "data": {
            "text/plain": [
              "array([[0, 0, 0, ..., 0, 0, 0],\n",
              "       [0, 0, 0, ..., 0, 0, 0],\n",
              "       [0, 0, 0, ..., 0, 0, 0],\n",
              "       ...,\n",
              "       [0, 0, 0, ..., 0, 0, 0],\n",
              "       [0, 0, 0, ..., 0, 0, 0],\n",
              "       [0, 0, 0, ..., 0, 0, 0]])"
            ]
          },
          "metadata": {
            "tags": []
          },
          "execution_count": 10
        }
      ]
    },
    {
      "cell_type": "code",
      "metadata": {
        "colab": {
          "base_uri": "https://localhost:8080/"
        },
        "id": "n-7t9jKGxVQU",
        "outputId": "8f92269b-5b8f-4094-ff93-34d914633975"
      },
      "source": [
        "X_stem.shape"
      ],
      "execution_count": 11,
      "outputs": [
        {
          "output_type": "execute_result",
          "data": {
            "text/plain": [
              "(4837, 2500)"
            ]
          },
          "metadata": {
            "tags": []
          },
          "execution_count": 11
        }
      ]
    },
    {
      "cell_type": "code",
      "metadata": {
        "colab": {
          "base_uri": "https://localhost:8080/"
        },
        "id": "WsgKt305w6LS",
        "outputId": "d9fca30c-0be5-4c8c-d538-5d03ec1f8cc4"
      },
      "source": [
        "from sklearn.feature_extraction.text import CountVectorizer\r\n",
        "cv1 = CountVectorizer(max_features=2500)\r\n",
        "X_lem = cv1.fit_transform(lem_corpus).toarray()\r\n",
        "X_lem"
      ],
      "execution_count": 14,
      "outputs": [
        {
          "output_type": "execute_result",
          "data": {
            "text/plain": [
              "array([[0, 0, 0, ..., 0, 0, 0],\n",
              "       [0, 0, 0, ..., 0, 0, 0],\n",
              "       [0, 0, 0, ..., 0, 0, 0],\n",
              "       ...,\n",
              "       [0, 0, 0, ..., 0, 0, 0],\n",
              "       [0, 0, 0, ..., 0, 0, 0],\n",
              "       [0, 0, 0, ..., 0, 0, 0]])"
            ]
          },
          "metadata": {
            "tags": []
          },
          "execution_count": 14
        }
      ]
    },
    {
      "cell_type": "code",
      "metadata": {
        "colab": {
          "base_uri": "https://localhost:8080/"
        },
        "id": "lAAX1c6xxGtQ",
        "outputId": "5303f702-0b9a-4859-96f5-0f8d2336ed99"
      },
      "source": [
        "X_lem.shape"
      ],
      "execution_count": 15,
      "outputs": [
        {
          "output_type": "execute_result",
          "data": {
            "text/plain": [
              "(4837, 2500)"
            ]
          },
          "metadata": {
            "tags": []
          },
          "execution_count": 15
        }
      ]
    },
    {
      "cell_type": "code",
      "metadata": {
        "colab": {
          "base_uri": "https://localhost:8080/"
        },
        "id": "0k_KZRDLxrGd",
        "outputId": "de021f3c-313c-43dc-c765-94a34b6567df"
      },
      "source": [
        "#TF-IDF for stemming\r\n",
        "\r\n",
        "from sklearn.feature_extraction.text import TfidfVectorizer\r\n",
        "tf_stem=TfidfVectorizer()\r\n",
        "x_tf_stem=tf_stem.fit_transform(corpus)\r\n",
        "print(x_tf_stem.shape)"
      ],
      "execution_count": 16,
      "outputs": [
        {
          "output_type": "stream",
          "text": [
            "(4837, 6296)\n"
          ],
          "name": "stdout"
        }
      ]
    },
    {
      "cell_type": "code",
      "metadata": {
        "colab": {
          "base_uri": "https://localhost:8080/"
        },
        "id": "srg7Je3VxymX",
        "outputId": "fb90b5f6-01e5-41e6-b7b9-2cfc01d59c26"
      },
      "source": [
        "#TF-IDF for lemmetizing\r\n",
        "tf_lem=TfidfVectorizer()\r\n",
        "x_tf_lem=tf_stem.fit_transform(lem_corpus)\r\n",
        "print(x_tf_lem.shape)"
      ],
      "execution_count": 17,
      "outputs": [
        {
          "output_type": "stream",
          "text": [
            "(4837, 7098)\n"
          ],
          "name": "stdout"
        }
      ]
    },
    {
      "cell_type": "code",
      "metadata": {
        "colab": {
          "base_uri": "https://localhost:8080/"
        },
        "id": "CfB0jcDJrc50",
        "outputId": "b1d79db3-f7be-48a7-a971-9ccaeb13ad17"
      },
      "source": [
        "y=pd.get_dummies(df['Label'])\r\n",
        "y=y.iloc[:,1].values\r\n",
        "y\r\n"
      ],
      "execution_count": 18,
      "outputs": [
        {
          "output_type": "execute_result",
          "data": {
            "text/plain": [
              "array([0, 0, 1, ..., 0, 0, 0], dtype=uint8)"
            ]
          },
          "metadata": {
            "tags": []
          },
          "execution_count": 18
        }
      ]
    },
    {
      "cell_type": "markdown",
      "metadata": {
        "id": "omXeOVRFyakN"
      },
      "source": [
        "**Model by using countvectorizer and stemming**"
      ]
    },
    {
      "cell_type": "code",
      "metadata": {
        "id": "u4zMCcf_yXOF"
      },
      "source": [
        "from sklearn.model_selection import train_test_split\r\n",
        "X_train, X_test, y_train, y_test= train_test_split(X_stem,y,test_size=0.2)"
      ],
      "execution_count": 19,
      "outputs": []
    },
    {
      "cell_type": "code",
      "metadata": {
        "id": "SRAj7KNure1p",
        "colab": {
          "base_uri": "https://localhost:8080/"
        },
        "outputId": "04e2704b-cf86-443b-9425-6f4fe02d1f0c"
      },
      "source": [
        "# Training model using Naive bayes classifier\r\n",
        "from sklearn.naive_bayes import MultinomialNB\r\n",
        "spam_detect_model = MultinomialNB().fit(X_train, y_train)\r\n",
        "y_pred=spam_detect_model.predict(X_test)\r\n",
        "y_pred\r\n",
        "\r\n",
        "from sklearn.metrics import confusion_matrix\r\n",
        "y_pred=spam_detect_model.predict(X_test)\r\n",
        "cm=confusion_matrix(y_test,y_pred)\r\n",
        "cm"
      ],
      "execution_count": 47,
      "outputs": [
        {
          "output_type": "execute_result",
          "data": {
            "text/plain": [
              "array([[823,   6],\n",
              "       [ 10, 129]])"
            ]
          },
          "metadata": {
            "tags": []
          },
          "execution_count": 47
        }
      ]
    },
    {
      "cell_type": "code",
      "metadata": {
        "colab": {
          "base_uri": "https://localhost:8080/"
        },
        "id": "iDEtH9Zd_huR",
        "outputId": "a8502bcb-61ef-4be1-f861-1e783c834b8b"
      },
      "source": [
        "from sklearn.metrics import classification_report\r\n",
        "print(classification_report(y_test, y_pred))"
      ],
      "execution_count": 59,
      "outputs": [
        {
          "output_type": "stream",
          "text": [
            "              precision    recall  f1-score   support\n",
            "\n",
            "           0       0.99      0.99      0.99       829\n",
            "           1       0.96      0.93      0.94       139\n",
            "\n",
            "    accuracy                           0.98       968\n",
            "   macro avg       0.97      0.96      0.97       968\n",
            "weighted avg       0.98      0.98      0.98       968\n",
            "\n"
          ],
          "name": "stdout"
        }
      ]
    },
    {
      "cell_type": "markdown",
      "metadata": {
        "id": "qvxUd11ZzFqm"
      },
      "source": [
        "**Model by using countvectorizer and lemmetizing**"
      ]
    },
    {
      "cell_type": "code",
      "metadata": {
        "id": "b0s9KQF2quNd",
        "colab": {
          "base_uri": "https://localhost:8080/"
        },
        "outputId": "70a4e7ac-6d9e-469e-bb7a-5ba1161f6aae"
      },
      "source": [
        "from sklearn.model_selection import train_test_split\r\n",
        "X1_train, X1_test, y1_train, y1_test= train_test_split(X_lem,y,test_size=0.2)\r\n",
        "\r\n",
        "from sklearn.naive_bayes import MultinomialNB\r\n",
        "spam_detect_model = MultinomialNB().fit(X1_train, y1_train)\r\n",
        "y1_pred=spam_detect_model.predict(X1_test)\r\n",
        "y1_pred\r\n",
        "\r\n",
        "from sklearn.metrics import confusion_matrix\r\n",
        "y1_pred=spam_detect_model.predict(X1_test)\r\n",
        "cm1=confusion_matrix(y1_test,y1_pred)\r\n",
        "cm1"
      ],
      "execution_count": 50,
      "outputs": [
        {
          "output_type": "execute_result",
          "data": {
            "text/plain": [
              "array([[815,  11],\n",
              "       [ 10, 132]])"
            ]
          },
          "metadata": {
            "tags": []
          },
          "execution_count": 50
        }
      ]
    },
    {
      "cell_type": "code",
      "metadata": {
        "colab": {
          "base_uri": "https://localhost:8080/"
        },
        "id": "j0ciSkWO5_nx",
        "outputId": "4bfeeda5-9247-4dea-f6c2-c06ba5065074"
      },
      "source": [
        "from sklearn.metrics import classification_report\r\n",
        "print(classification_report(y1_test, y1_pred))"
      ],
      "execution_count": 51,
      "outputs": [
        {
          "output_type": "stream",
          "text": [
            "              precision    recall  f1-score   support\n",
            "\n",
            "           0       0.99      0.99      0.99       826\n",
            "           1       0.92      0.93      0.93       142\n",
            "\n",
            "    accuracy                           0.98       968\n",
            "   macro avg       0.96      0.96      0.96       968\n",
            "weighted avg       0.98      0.98      0.98       968\n",
            "\n"
          ],
          "name": "stdout"
        }
      ]
    },
    {
      "cell_type": "markdown",
      "metadata": {
        "id": "mQEBbN2jz6K9"
      },
      "source": [
        "**Model by using TF-IDF and stemming**"
      ]
    },
    {
      "cell_type": "code",
      "metadata": {
        "colab": {
          "base_uri": "https://localhost:8080/"
        },
        "id": "0aJPCXDGz5IX",
        "outputId": "d200ac21-37c9-4e39-b91d-6db3c37fe6bb"
      },
      "source": [
        "from sklearn.model_selection import train_test_split\r\n",
        "X2_train, X2_test, y2_train, y2_test= train_test_split(x_tf_stem,y,test_size=0.2)\r\n",
        "\r\n",
        "from sklearn.naive_bayes import MultinomialNB\r\n",
        "spam_detect_model = MultinomialNB().fit(X2_train, y2_train)\r\n",
        "y2_pred=spam_detect_model.predict(X2_test)\r\n",
        "y2_pred\r\n",
        "\r\n",
        "from sklearn.metrics import confusion_matrix\r\n",
        "y2_pred=spam_detect_model.predict(X2_test)\r\n",
        "cm2=confusion_matrix(y2_test,y2_pred)\r\n",
        "cm2"
      ],
      "execution_count": 55,
      "outputs": [
        {
          "output_type": "execute_result",
          "data": {
            "text/plain": [
              "array([[830,   0],\n",
              "       [ 30, 108]])"
            ]
          },
          "metadata": {
            "tags": []
          },
          "execution_count": 55
        }
      ]
    },
    {
      "cell_type": "code",
      "metadata": {
        "colab": {
          "base_uri": "https://localhost:8080/"
        },
        "id": "v6qHWxBo6E80",
        "outputId": "7609b6b0-b002-47a2-9727-0865c0358b40"
      },
      "source": [
        "from sklearn.metrics import classification_report\r\n",
        "print(classification_report(y2_test, y2_pred))"
      ],
      "execution_count": 56,
      "outputs": [
        {
          "output_type": "stream",
          "text": [
            "              precision    recall  f1-score   support\n",
            "\n",
            "           0       0.97      1.00      0.98       830\n",
            "           1       1.00      0.78      0.88       138\n",
            "\n",
            "    accuracy                           0.97       968\n",
            "   macro avg       0.98      0.89      0.93       968\n",
            "weighted avg       0.97      0.97      0.97       968\n",
            "\n"
          ],
          "name": "stdout"
        }
      ]
    },
    {
      "cell_type": "markdown",
      "metadata": {
        "id": "zVvAnaZ403gC"
      },
      "source": [
        "**Model by using TF-IDF and lemmetizing**"
      ]
    },
    {
      "cell_type": "code",
      "metadata": {
        "colab": {
          "base_uri": "https://localhost:8080/"
        },
        "id": "amUG32ZD0ylA",
        "outputId": "b4f978f0-a24a-4247-e883-55916aeb650b"
      },
      "source": [
        "from sklearn.model_selection import train_test_split\r\n",
        "X3_train, X3_test, y3_train, y3_test= train_test_split(x_tf_lem,y,test_size=0.2)\r\n",
        "\r\n",
        "from sklearn.naive_bayes import MultinomialNB\r\n",
        "spam_detect_model = MultinomialNB().fit(X3_train, y3_train)\r\n",
        "y3_pred=spam_detect_model.predict(X3_test)\r\n",
        "y3_pred\r\n",
        "\r\n",
        "from sklearn.metrics import confusion_matrix\r\n",
        "y3_pred=spam_detect_model.predict(X3_test)\r\n",
        "cm3=confusion_matrix(y3_test,y3_pred)\r\n",
        "cm3"
      ],
      "execution_count": 57,
      "outputs": [
        {
          "output_type": "execute_result",
          "data": {
            "text/plain": [
              "array([[828,   0],\n",
              "       [ 39, 101]])"
            ]
          },
          "metadata": {
            "tags": []
          },
          "execution_count": 57
        }
      ]
    },
    {
      "cell_type": "code",
      "metadata": {
        "colab": {
          "base_uri": "https://localhost:8080/"
        },
        "id": "Q8i4EiiW1Bad",
        "outputId": "20dde60e-eebf-49be-8d58-3f5a2d2864cf"
      },
      "source": [
        "from sklearn.metrics import classification_report\r\n",
        "print(classification_report(y3_test, y3_pred))"
      ],
      "execution_count": 58,
      "outputs": [
        {
          "output_type": "stream",
          "text": [
            "              precision    recall  f1-score   support\n",
            "\n",
            "           0       0.96      1.00      0.98       828\n",
            "           1       1.00      0.72      0.84       140\n",
            "\n",
            "    accuracy                           0.96       968\n",
            "   macro avg       0.98      0.86      0.91       968\n",
            "weighted avg       0.96      0.96      0.96       968\n",
            "\n"
          ],
          "name": "stdout"
        }
      ]
    },
    {
      "cell_type": "code",
      "metadata": {
        "id": "QINB1uhw1E_f"
      },
      "source": [
        ""
      ],
      "execution_count": null,
      "outputs": []
    }
  ]
}